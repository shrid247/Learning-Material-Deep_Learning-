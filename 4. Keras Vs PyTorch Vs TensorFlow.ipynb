{
 "cells": [
  {
   "cell_type": "markdown",
   "id": "26719cd3",
   "metadata": {},
   "source": [
    "# <span style = \"color:orange\"> Keras Vs PyTorch Vs TensorFlow </span>"
   ]
  },
  {
   "cell_type": "markdown",
   "id": "b85f49b3",
   "metadata": {},
   "source": [
    "***"
   ]
  },
  {
   "cell_type": "markdown",
   "id": "0292d536",
   "metadata": {},
   "source": [
    "### What is Keras?"
   ]
  },
  {
   "cell_type": "markdown",
   "id": "e74d359e",
   "metadata": {},
   "source": [
    "Keras is an effective high-level neural network Application Programming Interface (API) written in Python. This open-source neural network library is designed to provide fast experimentation with deep neural networks, and it can run on top of CNTK, TensorFlow and Theano. <br>\n",
    "\n",
    "Keras focuses on being modular, user-friendly, and extensible. It doesn't handle low-level computations; instead, it hands them off to another library called the Backend. <br>\n",
    "\n",
    "Keras was adopted and integrated into TensorFlow in mid-2017. Users can access it via the tf.keras module. However, the keras library can still operate seperatly and independently."
   ]
  },
  {
   "cell_type": "markdown",
   "id": "055777cf",
   "metadata": {},
   "source": [
    "### What is PyTorch?"
   ]
  },
  {
   "cell_type": "markdown",
   "id": "b185eeeb",
   "metadata": {},
   "source": [
    "PyTorch is an relatively new deep learning framework based on Torch. Developed by Facebook's AI research group and open-sourced on GitHub in 2017, it is used for natural language processing applications. PyTorch has a reputation for simplicity, ease of use, flexibility, efficient memory usage, and dynamic computational graphs. It also feels native, matking coding more manageable and increasing processing speed."
   ]
  },
  {
   "cell_type": "markdown",
   "id": "92c3bc85",
   "metadata": {},
   "source": [
    "### What is TensorFlow?"
   ]
  },
  {
   "cell_type": "markdown",
   "id": "c67b64d8",
   "metadata": {},
   "source": [
    "TensorFlow is an end-to-end open-sourced deep learning framework developed by Google and released in 2015. It is known for documentation and training support, scalable production and deployment options, multiple abstraction levels, and support for different platforms, such as Android.\n",
    "<br>\n",
    "TensorFlow is a symbolic math library used for neural networks and is best suited for dataflow programming across a range of tasks. It offers multiple abstraction levels for building and training models.\n",
    "<br>\n",
    "A promising and fast-growing entry in the world of deep learning, TensorFlow offers a flexible, comprehensive ecosystem of community resources,libraries and tools that facilate building and deploying machine learning apps. Also, as mentioned before, TensorFlow has adopted Keras, Which makes comparing the two seem problematic. Nevertheless, we will still compare the two frameworks for the sake of completeness, especially since Keras users don't necessarily have to use TensorFlow."
   ]
  },
  {
   "cell_type": "markdown",
   "id": "8f58909f",
   "metadata": {},
   "source": [
    "### So what is Theano?"
   ]
  },
  {
   "cell_type": "markdown",
   "id": "e86b9ef6",
   "metadata": {},
   "source": [
    "Theano used to be one of the more popular deep learning libraries, an open-source project that lets programmers define, evaluate, and optimize mathematical expressions, including mutlidimensional arrays and matrix-valued expressions.<br>\n",
    "Theano was developed by the Universite de Montreal in 2007 and is a key foundational library used for deep learning in Python. It's considered the grandfather of deep learning frameworks and has fallen out of favor by most researchers outside academia."
   ]
  },
  {
   "cell_type": "markdown",
   "id": "179b58f6",
   "metadata": {},
   "source": [
    "***"
   ]
  },
  {
   "cell_type": "markdown",
   "id": "2b640029",
   "metadata": {},
   "source": [
    "# <center><a href = \"http://edure.in/\"><span style = \"color:CornflowerBlue; font-family:Courier New;font-size:40px\">EDURE LEARNING</span></a></center>"
   ]
  }
 ],
 "metadata": {
  "kernelspec": {
   "display_name": "Python 3 (ipykernel)",
   "language": "python",
   "name": "python3"
  },
  "language_info": {
   "codemirror_mode": {
    "name": "ipython",
    "version": 3
   },
   "file_extension": ".py",
   "mimetype": "text/x-python",
   "name": "python",
   "nbconvert_exporter": "python",
   "pygments_lexer": "ipython3",
   "version": "3.9.7"
  }
 },
 "nbformat": 4,
 "nbformat_minor": 5
}
