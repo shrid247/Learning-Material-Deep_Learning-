{
 "cells": [
  {
   "cell_type": "markdown",
   "id": "5c14bc45",
   "metadata": {},
   "source": [
    "# <span style = 'color:green'> Reason for sudden popularity of Deep Learning </span>"
   ]
  },
  {
   "cell_type": "markdown",
   "id": "8382ddce",
   "metadata": {},
   "source": [
    "***"
   ]
  },
  {
   "cell_type": "markdown",
   "id": "9d9423ef",
   "metadata": {},
   "source": [
    "<b> Deep Learning </b> has become the main driver of many new applications and it's time to really look at why is the case. With so many other options that we've been using for so long. why Deep Learning?"
   ]
  },
  {
   "cell_type": "markdown",
   "id": "fb1ade85",
   "metadata": {},
   "source": [
    "Deep Learning is popular right now because it's easy and it works."
   ]
  },
  {
   "cell_type": "markdown",
   "id": "7e1e3a7c",
   "metadata": {},
   "source": [
    "![title](3.png)"
   ]
  },
  {
   "cell_type": "markdown",
   "id": "02c5f241",
   "metadata": {},
   "source": [
    "Traditional Machine Learning approaches worked like the top half of the picture above. You would have to design a feature extraction algorithm which generally involved a lot of heavy mathematics, wasn't very efficient, and didn't perform too well at all (accuracy level just wasn't suitable for real-world applications). After doing all of that you would also have to design a whole classification model to classify your input given the extracted features."
   ]
  },
  {
   "cell_type": "markdown",
   "id": "a3c39c19",
   "metadata": {},
   "source": [
    "<b> Enter Deep Learning</b>"
   ]
  },
  {
   "cell_type": "markdown",
   "id": "67bae449",
   "metadata": {},
   "source": [
    "* With dep networks we can perform feature extraction and classification in one shot, which means we only have to design one model.\n",
    "* The availability of large amounts of labelled data as well as GPUs which can process this data in parallel at high speeds enables these models to be much faster than previous methods.\n",
    "* Using the back-propogation algorithm, a well-designed loss funcition, and millions of parameters, these deep network are able to learn highly complex features (Which had to tradionally be hand designed) i,e <b> No more complex design! </b>\n",
    "* They've become fairly easy to implement, especially with high-level open source libraries such as Keras, Pytorch, and TensorFlow"
   ]
  },
  {
   "cell_type": "markdown",
   "id": "c6f0d55a",
   "metadata": {},
   "source": [
    "### The Era of Big Data"
   ]
  },
  {
   "cell_type": "markdown",
   "id": "4573fa96",
   "metadata": {},
   "source": [
    "The second huge advantage of Deep Learning and a key part in understanding why it's becoming so popular is that it's powered by massive amounts of data. The \"Big Data Era\" of technology will provide huge amounts of opportuninties for new innovations in deep learning. As per Andrew Ng, the chief scientist of China's major search engine Baidu and one of the leaders of the Google Brain Project <br>\n",
    "<i>\" The analogy to deep Learning is that the rocket engine is the deep learning models and the fuel is the huge amounts of data we can feed to these algorithms.\"</i>"
   ]
  },
  {
   "cell_type": "markdown",
   "id": "6016637d",
   "metadata": {},
   "source": [
    "![title](4.png)"
   ]
  },
  {
   "cell_type": "markdown",
   "id": "9aad0627",
   "metadata": {},
   "source": [
    "Deep Learning models tend to increase their accuracy with the increasing amounts of training data, where's traditional machine learing models such as SVM and Naive Bayes classifier stop improving after a long saturation point."
   ]
  },
  {
   "cell_type": "markdown",
   "id": "80cf41a7",
   "metadata": {},
   "source": [
    "***"
   ]
  },
  {
   "cell_type": "markdown",
   "id": "6655f1f3",
   "metadata": {},
   "source": [
    "# <center><a href = \"http://edure.in/\"><span style = \"color:CornflowerBlue; font-family:Courier New;font-size:40px\">EDURE LEARNING</span></a></center>"
   ]
  }
 ],
 "metadata": {
  "kernelspec": {
   "display_name": "Python 3 (ipykernel)",
   "language": "python",
   "name": "python3"
  },
  "language_info": {
   "codemirror_mode": {
    "name": "ipython",
    "version": 3
   },
   "file_extension": ".py",
   "mimetype": "text/x-python",
   "name": "python",
   "nbconvert_exporter": "python",
   "pygments_lexer": "ipython3",
   "version": "3.9.7"
  }
 },
 "nbformat": 4,
 "nbformat_minor": 5
}
