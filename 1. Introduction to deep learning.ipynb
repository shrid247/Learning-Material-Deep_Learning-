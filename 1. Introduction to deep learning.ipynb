{
 "cells": [
  {
   "cell_type": "markdown",
   "id": "495dc958",
   "metadata": {},
   "source": [
    "# <span style = \"color:green\"> What exactly is Deep Learning? </span>"
   ]
  },
  {
   "cell_type": "markdown",
   "id": "45d055a1",
   "metadata": {},
   "source": [
    "***"
   ]
  },
  {
   "cell_type": "markdown",
   "id": "46267c82",
   "metadata": {},
   "source": [
    "Deep Learining is a subset of Machine Learining, which on the other hand is a subset of Artificial Intelligence. Artifiicial Intelligence is a general term that refers to techniques that enable computers to mimic human behaviour. Machine Learning represents a set of algorithms trained on data that make all of this possible."
   ]
  },
  {
   "cell_type": "markdown",
   "id": "8a1e2633",
   "metadata": {},
   "source": [
    "![title](1.png)"
   ]
  },
  {
   "cell_type": "markdown",
   "id": "3e867f6e",
   "metadata": {},
   "source": [
    "Deep Learning, on the other hand is just a type of Machine Learningm inspired by the structure of human brain. Deep learning algorithms attempt to draw similar conclusions as humans would by continually analyzing data with a given logical structure. To achieve this, Deep Learning uses a multi-layered structure of algorithms called Neural Networks."
   ]
  },
  {
   "cell_type": "markdown",
   "id": "c5a3ff7f",
   "metadata": {},
   "source": [
    "![title](2.png)"
   ]
  },
  {
   "cell_type": "markdown",
   "id": "bf230248",
   "metadata": {},
   "source": [
    "The design of the neural network is based on the structure of human brain. Just as we use our brains to identify patterns and classify different types of information, neural networks can be taught to perform the same tasks on data."
   ]
  },
  {
   "cell_type": "markdown",
   "id": "9faf2f2f",
   "metadata": {},
   "source": [
    "The individual layers of neural networks can also be thought of as a sort of filter that works from gross to subtle, increasing the likelihood of detecting and outputing a correct result."
   ]
  },
  {
   "cell_type": "markdown",
   "id": "512b66db",
   "metadata": {},
   "source": [
    "The human brain works similarly. Whenever we recieve a new information, the brain tries to compare it with known objects. The same concept is also used by neural networks."
   ]
  },
  {
   "cell_type": "markdown",
   "id": "3ff3f295",
   "metadata": {},
   "source": [
    "<b> Neural Networks enable us to perform many tasks, such as clustering, classification or regression.</b> With neural networks, we can group or sort unlabeled data according to similarities among the samples in this data. Or in the case of classification, we can train the network on a labeled dataset in order to classify the samples in this dataset into different categories."
   ]
  },
  {
   "cell_type": "markdown",
   "id": "f53bdd84",
   "metadata": {},
   "source": [
    "<i> In general, Neural networks can perform the same tasks as classical algorithms of machine learning. However, It is not the other way around.</i>"
   ]
  },
  {
   "cell_type": "markdown",
   "id": "9d70fe20",
   "metadata": {},
   "source": [
    "Artificial Neural networks have unique capabilities that enable deep learning models to solve tasks that machine learning models can never solve."
   ]
  },
  {
   "cell_type": "markdown",
   "id": "247823c5",
   "metadata": {},
   "source": [
    "All recent advances in artificial intelligence in recent years are due to deep learning. Without deep learning, we would not have self-driving cars chatbots or personal assistants like Alexa, Siri. The Google Translate app would continue to be as primitive as 10 years ago(before Google switched to neural networks), and Netflix or YouTube would have no idea which movie or TV series to recommend us. Behind all these technologies are neural networks."
   ]
  },
  {
   "cell_type": "markdown",
   "id": "60a3b615",
   "metadata": {},
   "source": [
    "***"
   ]
  },
  {
   "cell_type": "markdown",
   "id": "c3b5aa5c",
   "metadata": {},
   "source": [
    "# <center><a href = \"http://edure.in/\"><span style = \"color:CornflowerBlue; font-family:Courier New;font-size:40px\">EDURE LEARNING</span></a></center>"
   ]
  }
 ],
 "metadata": {
  "kernelspec": {
   "display_name": "Python 3 (ipykernel)",
   "language": "python",
   "name": "python3"
  },
  "language_info": {
   "codemirror_mode": {
    "name": "ipython",
    "version": 3
   },
   "file_extension": ".py",
   "mimetype": "text/x-python",
   "name": "python",
   "nbconvert_exporter": "python",
   "pygments_lexer": "ipython3",
   "version": "3.9.7"
  }
 },
 "nbformat": 4,
 "nbformat_minor": 5
}
