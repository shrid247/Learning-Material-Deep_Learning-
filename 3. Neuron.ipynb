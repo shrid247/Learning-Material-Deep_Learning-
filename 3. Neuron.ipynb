{
 "cells": [
  {
   "cell_type": "markdown",
   "id": "92c48140",
   "metadata": {},
   "source": [
    "# <span style = \"color:lightblue\"> Neurons in Deep Learning </span>"
   ]
  },
  {
   "cell_type": "markdown",
   "id": "f264b154",
   "metadata": {},
   "source": [
    "***"
   ]
  },
  {
   "cell_type": "markdown",
   "id": "df3621ae",
   "metadata": {},
   "source": [
    "<b>Neurons</b> are critical component of any Deep learning model."
   ]
  },
  {
   "cell_type": "markdown",
   "id": "f3bf70a3",
   "metadata": {},
   "source": [
    "In fact, one could argue that you can't fully understand Deep learning with having a deep knowledge of how neurons work."
   ]
  },
  {
   "cell_type": "markdown",
   "id": "cebbc149",
   "metadata": {},
   "source": [
    "### What is a Neuron in Biology?"
   ]
  },
  {
   "cell_type": "markdown",
   "id": "485c8467",
   "metadata": {},
   "source": [
    "Neurons in Deep learning were inspired by neurons in the human brain. Groups of neurons work together inside the human brain to perform the funtionality that we require in our day-to-day lives."
   ]
  },
  {
   "cell_type": "markdown",
   "id": "4bbfd439",
   "metadata": {},
   "source": [
    "The question that Geoffrey Hinton (A British-Canadian cognitive psychologist) asked during his seminal research in neural networks was whether we could build computer alogirithms that behave similarly to neurons in the brain. The hope was that by mimicking the brain's structure, we might capture some of its capabilities. <br>\n",
    "To do this, researchers studied the way that neurons behaved in the brain. One important observation was that a neuron by itself is useless. Instead, you require networks to generate any meaningful funcionality."
   ]
  },
  {
   "cell_type": "markdown",
   "id": "eb2568e2",
   "metadata": {},
   "source": [
    "### What is a Neuron in Deep Learning?"
   ]
  },
  {
   "cell_type": "markdown",
   "id": "b2bd2e8a",
   "metadata": {},
   "source": [
    "Neurons in deep learning models are nodes through which data and computations flow.<br>\n",
    "\n",
    "Neurons work like this:\n",
    "* They recieve one or more input signals. These input signals can come frome either the raw dataset or from neurons positioned previous layer of the neural net.\n",
    "* They perform some calculations.\n",
    "* They sent some output signals to neurons deeper in the neural net through a synapse."
   ]
  },
  {
   "cell_type": "markdown",
   "id": "9f22964b",
   "metadata": {},
   "source": [
    "![title](5.png)"
   ]
  },
  {
   "cell_type": "markdown",
   "id": "094f5b2e",
   "metadata": {},
   "source": [
    "As you can see, neurons in a deep learning model are capable of having synapses that connect to more than one neuron in the preceeding layer. Each synapse has an associated weight, which impacts the preceeding neuron's importance in the overall network.\n",
    "<br>\n",
    "Weights are a very important topic in the field of deep learning because adjusting a model's weights is the primary way throught which deep learning models are tranined.\n",
    "<br>\n",
    "Once a neuron recieves its inputs from the neurons in the preceeding layer of the model, it adds up each signal multiplied by its corresponding weight and passes them on to an activation function."
   ]
  },
  {
   "cell_type": "markdown",
   "id": "3662203f",
   "metadata": {},
   "source": [
    "![title](6.png)"
   ]
  },
  {
   "cell_type": "markdown",
   "id": "03a6055b",
   "metadata": {},
   "source": [
    "The activation function calculates the output value for the neuron. This output value is then passed on to the next layer of the neural network through another synapse."
   ]
  },
  {
   "cell_type": "markdown",
   "id": "f15f61ce",
   "metadata": {},
   "source": [
    "***"
   ]
  },
  {
   "cell_type": "markdown",
   "id": "ed601708",
   "metadata": {},
   "source": [
    "# <center><a href = \"http://edure.in/\"><span style = \"color:CornflowerBlue; font-family:Courier New;font-size:40px\">EDURE LEARNING</span></a></center>"
   ]
  }
 ],
 "metadata": {
  "kernelspec": {
   "display_name": "Python 3 (ipykernel)",
   "language": "python",
   "name": "python3"
  },
  "language_info": {
   "codemirror_mode": {
    "name": "ipython",
    "version": 3
   },
   "file_extension": ".py",
   "mimetype": "text/x-python",
   "name": "python",
   "nbconvert_exporter": "python",
   "pygments_lexer": "ipython3",
   "version": "3.9.7"
  }
 },
 "nbformat": 4,
 "nbformat_minor": 5
}
